{
 "cells": [
  {
   "cell_type": "code",
   "execution_count": 1,
   "id": "05a5b086",
   "metadata": {},
   "outputs": [],
   "source": [
    "def f(x):\n",
    "    if(x==0):\n",
    "        return 1\n",
    "    elif(x==1):\n",
    "        return 1\n",
    "    elif(x==2):\n",
    "        return 3\n",
    "    elif(x>2):\n",
    "        return f(x-1)+2*f(x-2)+3*f(x-3)"
   ]
  },
  {
   "cell_type": "code",
   "execution_count": 2,
   "id": "d4590ad2",
   "metadata": {},
   "outputs": [
    {
     "data": {
      "text/plain": [
       "17996232"
      ]
     },
     "execution_count": 2,
     "metadata": {},
     "output_type": "execute_result"
    }
   ],
   "source": [
    "f(20)"
   ]
  },
  {
   "cell_type": "code",
   "execution_count": 6,
   "id": "1a7f79c5",
   "metadata": {},
   "outputs": [],
   "source": [
    "def valid_DNA(x):\n",
    "    valid_chars = (\"A\",\"C\",\"G\",\"T\")\n",
    "    current_max = 0\n",
    "    current_length = 0\n",
    "    for char in x:\n",
    "        if char in valid_chars:\n",
    "            current_length += 1\n",
    "        else:\n",
    "            if current_length > current_max:\n",
    "                current_max = current_length\n",
    "            current_length = 0\n",
    "            continue\n",
    "    return current_max"
   ]
  },
  {
   "cell_type": "code",
   "execution_count": 7,
   "id": "f33f40c5",
   "metadata": {},
   "outputs": [
    {
     "data": {
      "text/plain": [
       "3"
      ]
     },
     "execution_count": 7,
     "metadata": {},
     "output_type": "execute_result"
    }
   ],
   "source": [
    "valid_DNA(\"ACGDA\")"
   ]
  },
  {
   "cell_type": "code",
   "execution_count": 8,
   "id": "19b0cc65",
   "metadata": {},
   "outputs": [
    {
     "data": {
      "text/plain": [
       "23"
      ]
     },
     "execution_count": 8,
     "metadata": {},
     "output_type": "execute_result"
    }
   ],
   "source": [
    "valid_DNA(\"GTLGDCACCCALCCTCGXGAXXCTTCTTAXTCTAXTDLXCATGDACCTCCGAGAGGGAGAGTTDACCACACAGTTAALGXDLXCAGLGXDCGXGAAGGDGTCACGATTGAGACGGGCGGAGGDGTTLLCCTXDTGCAXALCGTAGAGGAACDTTAGAAGDGGAAACGTAAGCGGTTDDACCGCTTGGGACCCGCCGATACTLGGXAAGADTLGXAAGTGTALCXCCCTGLCGAAGGDLLTGXGCCATAAAGACGCAGDGCCTTADCDAAGGXLAXCAGCXCCAACAGLCGCAGLAXCAGT\")"
   ]
  },
  {
   "cell_type": "code",
   "execution_count": null,
   "id": "c6ba05b4",
   "metadata": {},
   "outputs": [],
   "source": []
  }
 ],
 "metadata": {
  "kernelspec": {
   "display_name": "Python 3 (ipykernel)",
   "language": "python",
   "name": "python3"
  },
  "language_info": {
   "codemirror_mode": {
    "name": "ipython",
    "version": 3
   },
   "file_extension": ".py",
   "mimetype": "text/x-python",
   "name": "python",
   "nbconvert_exporter": "python",
   "pygments_lexer": "ipython3",
   "version": "3.9.7"
  }
 },
 "nbformat": 4,
 "nbformat_minor": 5
}
